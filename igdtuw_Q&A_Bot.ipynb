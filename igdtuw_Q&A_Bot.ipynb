{
  "nbformat": 4,
  "nbformat_minor": 0,
  "metadata": {
    "colab": {
      "provenance": [],
      "authorship_tag": "ABX9TyM5uz+dq68ZuEpOjUmGIkzb",
      "include_colab_link": true
    },
    "kernelspec": {
      "name": "python3",
      "display_name": "Python 3"
    },
    "language_info": {
      "name": "python"
    }
  },
  "cells": [
    {
      "cell_type": "markdown",
      "metadata": {
        "id": "view-in-github",
        "colab_type": "text"
      },
      "source": [
        "<a href=\"https://colab.research.google.com/github/Nancytechie/AIML-Project-Series/blob/main/igdtuw_Q%26A_Bot.ipynb\" target=\"_parent\"><img src=\"https://colab.research.google.com/assets/colab-badge.svg\" alt=\"Open In Colab\"/></a>"
      ]
    },
    {
      "cell_type": "code",
      "execution_count": null,
      "metadata": {
        "colab": {
          "base_uri": "https://localhost:8080/"
        },
        "id": "-I4_jttDHOg8",
        "outputId": "50ceaba5-7fa4-4283-e865-ffe9f2cdb284"
      },
      "outputs": [
        {
          "output_type": "stream",
          "name": "stdout",
          "text": [
            "Welcome to the IGDTUW Admission Office! How can I assist you today?\n",
            "User: hi\n",
            "Chatbot: Hello! How can I help you with your college admission queries?\n"
          ]
        }
      ],
      "source": [
        "import spacy\n",
        "\n",
        "class CollegeAdmissionChatbot:\n",
        "    def __init__(self):\n",
        "        self.nlp = spacy.load(\"en_core_web_sm\")\n",
        "        self.user_context = {}\n",
        "\n",
        "    def welcome_message(self):\n",
        "        return \"Welcome to the IGDTUW Admission Office! How can I assist you today?\"\n",
        "\n",
        "    def handle_user_input(self, user_input):\n",
        "        if not user_input:\n",
        "            return \"I'm sorry, I didn't catch that. Could you please ask your question again?\"\n",
        "\n",
        "        if any(greeting in user_input.lower() for greeting in ['hi', 'hello', 'hey', 'namaste']):\n",
        "            return \"Hello! How can I help you with your college admission queries?\"\n",
        "\n",
        "        doc = self.nlp(user_input)\n",
        "        intent = None\n",
        "\n",
        "        for token in doc:\n",
        "            if token.dep_ == \"ROOT\":\n",
        "                intent = token.lemma_.lower()\n",
        "\n",
        "        if intent:\n",
        "            if \"admission\" in intent or \"process\" in intent:\n",
        "                return self.admission_procedures()\n",
        "            elif \"deadline\" in intent:\n",
        "                return self.application_deadline()\n",
        "            elif \"scholarship\" in intent:\n",
        "                return self.scholarship_info()\n",
        "            elif \"courses\" in intent:\n",
        "                return self.courses_info()\n",
        "            elif \"fees\" in intent:\n",
        "                return self.fees_info()\n",
        "            elif any(keyword in intent for keyword in [\"accommodation\", \"hostel\"]):\n",
        "                return self.accommodation_info()\n",
        "            elif any(keyword in intent for keyword in [\"transportation\", \"metro\"]):\n",
        "                return self.transportation_info()\n",
        "            elif \"placement\" in intent:\n",
        "                return self.placement_info()\n",
        "            elif any(keyword in intent for keyword in [\"contact\", \"authorities\"]):\n",
        "                return self.contact_info()\n",
        "\n",
        "        return \"I'm sorry, I'm not sure how to answer that. Could you please ask another question?\"\n",
        "\n",
        "    def admission_procedures(self):\n",
        "        return \"IGDTUW offers programs like B.Tech, B.Arch, and BBA at UG level. Admission to BTech and BArch is subject to a valid score in JEE Main followed by Joint Admission Counselling (JAC). BBA admissions are merit-based. Under the PG domain, programs like M.Tech with 5 specializations, MBA, MCA, and M.Plan. are offered. For admission to the M.Tech. and M.Plan. programs, a valid score in GATE is mandatory. Admission to MCA is conducted through an entrance test conducted by IGDTUW while admission to the MBA will be strictly based on the candidate’s performance in CAT followed by GD and PI. For Ph.D, IGDTUW conducts Research Aptitude Test (RAT) followed by an interview. CSIR-NET/ UGC-NET/ GATE or any other equivalent exam qualified candidates are exempted from RAT.\"\n",
        "\n",
        "    def application_deadline(self):\n",
        "        return \"IGDTUW is accepting PhD applications (Winter Session), the last date to register is December 26, 2024. IGDTUW will conduct RAT for PhD admission on January 02, 2024. IGDTUW BTech admissions are based on CUET UG exams. CUET UG exam dates 2024 have been released. The exam is scheduled to take place from 15th May 2024 to 31st May 2024. CUET 2024 is expected to start from February 2024. IGDTUW also grants admission to its BTech program through JEE Mains. JEE Main 2024 Session 1 will be conducted on January 24, 2024, and February 1, 2024. IGDTUW MTech admissions are based on the CUET PG scores. CUET PG 2024 exam is scheduled to be held between March 11, 2024, and March 28, 2024. The online registration for CUET PG is expected to commence in the first week of January 2024. IGDTUW also accepts GATE scores for its MTech admissions. GATE 2024 exam is scheduled to be held between February 3, 2024 and February 11, 2024\"\n",
        "\n",
        "    def scholarship_info(self):\n",
        "        return \"1. For the meritorious students scoring high rank in the National level competitive examinations, the  University has offered 100% Tuition Fee Waiver/Scholarship schemes for students admitted in B.Tech. & B.Arch. program from the Academic Year 2021-22 onwards.(i) 100 % Tuition Fee waiver to all the students who take admission in B.Tech. and Dual degree (B.Tech+ MBA) programs having JEE Mains Rank up to 5000 in the 1styear.(ii) 100 % Tuition Fee waiver to all the students who take admission in B.Arch. program having NATA score 135 and above in the 1st year. (iii) 100 % Tuition Fee waiver to Highest Rank holder under EWS category of B.Tech., B.Arch. and Dual Degree Programs (B.Tech. + MBA) of each department admitted in the 1st year\"\n",
        "\n",
        "    def courses_info(self):\n",
        "        return \"Courses:  B.Arch, B.Tech Computer Science Engineering - Artificial Intelligence , B.Tech Computer Science Engineering , B.Tech Information Technology , B.Tech Artificial Intelligence and Machine Learning , B.Tech Electronics & Communication Engineering, B.Tech Mechanical & Automation Engineering\"\n",
        "\n",
        "    def fees_info(self):\n",
        "        return \"Courses Fees Description: B.Tech (7 Courses) INR 4.89 Lakhs , M.Tech (4 Courses) INR 1.15 Lakhs , MBA (5 Courses) INR 1.05 Lakhs(1st Year) , MPlan (1 Course) INR 3.37 Lakhs , PhD (5 Courses) INR 33,000\"\n",
        "\n",
        "    def accommodation_info(self):\n",
        "        return \"The university offers accommodation facilities for students. You can find information about hostels, rooms, and mess facilities on the official university website. Hostel Admission Reservation Policy will be followed for fair and proper distribution of hostel seats amongst students of various programmes at IGDTUW. \"\n",
        "\n",
        "    def transportation_info(self):\n",
        "        return \"The university is well-connected with public transportation. The nearest metro station is Kashmer Gate( Exit Gate number 7) and Kashmere Gate is ISBT, so bus service is also easily available.\"\n",
        "\n",
        "    def placement_info(self):\n",
        "        return \"IGDTUW University has a strong placement record. Particulars Placements Statistics 2023: Number of Recruiters: 100, Batch Strength - 367,Number of Students Placed- 330, Total Number of Offers - 780, Number of Full-Time Offers - 444, Highest Salary - INR 82 LPA, Average Salary - INR 26.11 LPA, Top Recruiters - MotorQ, Microsoft, Adobe, Google, Twilio, Amazon, Intuit, etc.\"\n",
        "\n",
        "    def contact_info(self):\n",
        "        return \"For contact details of specific authorities or departments, please visit the official contact page on the university's website.\"\n",
        "\n",
        "chatbot = CollegeAdmissionChatbot()\n",
        "print(chatbot.welcome_message())\n",
        "\n",
        "while True:\n",
        "    user_input = input(\"User: \")\n",
        "    if user_input.lower() == 'exit':\n",
        "        print(\"Goodbye!\")\n",
        "        break\n",
        "\n",
        "    response = chatbot.handle_user_input(user_input)\n",
        "    print(\"Chatbot:\", response)\n"
      ]
    },
    {
      "cell_type": "code",
      "source": [],
      "metadata": {
        "id": "U39KsjaLHTty"
      },
      "execution_count": null,
      "outputs": []
    }
  ]
}
{
  "nbformat": 4,
  "nbformat_minor": 0,
  "metadata": {
    "colab": {
      "provenance": [],
      "authorship_tag": "ABX9TyOiZOIXkL9u6PKVjjDuG3iL",
      "include_colab_link": true
    },
    "kernelspec": {
      "name": "python3",
      "display_name": "Python 3"
    },
    "language_info": {
      "name": "python"
    }
  },
  "cells": [
    {
      "cell_type": "markdown",
      "metadata": {
        "id": "view-in-github",
        "colab_type": "text"
      },
      "source": [
        "<a href=\"https://colab.research.google.com/github/Nancytechie/Nexus-internship/blob/main/Simple_Bot.ipynb\" target=\"_parent\"><img src=\"https://colab.research.google.com/assets/colab-badge.svg\" alt=\"Open In Colab\"/></a>"
      ]
    },
    {
      "cell_type": "code",
      "source": [
        "import random"
      ],
      "metadata": {
        "id": "mWLOF8hANFKf"
      },
      "execution_count": 2,
      "outputs": []
    },
    {
      "cell_type": "code",
      "source": [
        "class SimpleChatbot:\n",
        "    def __init__(self):\n",
        "        self.context = {}\n",
        "\n",
        "    def greet(self):\n",
        "        return \"Hello! I'm your simple chatbot. What can I do for you today?\"\n",
        "\n",
        "    def farewell(self):\n",
        "        return \"Goodbye! If you ever want to chat again, feel free to return.\"\n",
        "\n",
        "    def respond_to_basic_questions(self, question):\n",
        "        if \"how are you\" in question:\n",
        "            return random.choice([\"I'm great! Thanks for asking.\", \"I'm doing well. How about you?\", \"I'm a chatbot, so I don't have feelings, but I'm here to help!\"])\n",
        "        elif \"your name\" in question:\n",
        "            return \"You can call me cuteBot. What's your name?\"\n",
        "        elif \"what do you do\" in question:\n",
        "            return \"I assist users by answering questions and providing information. Is there anything specific you'd like to know?\"\n",
        "        elif \"weather\" in question:\n",
        "            return \"I can't provide real-time weather information, but I can suggest a website where you can check. Where are you located?\"\n",
        "        elif \"thanks\" in question or \"thank you\" in question:\n",
        "            return random.choice([\"You're welcome!\", \"No problem!\", \"Happy to help!\"])\n",
        "\n",
        "    def ask_user_questions(self):\n",
        "        questions = [\n",
        "            \"What's your favorite book?\",\n",
        "            \"If you could travel anywhere, where would you go?\",\n",
        "            \"Tell me something interesting about yourself.\"\n",
        "        ]\n",
        "        user_responses = {}\n",
        "\n",
        "        for question in questions:\n",
        "            user_input = input(\"Chatbot: \" + question + \" \")\n",
        "            user_responses[question] = user_input\n",
        "\n",
        "        return user_responses\n",
        "\n",
        "    def handle_user_input(self, user_input):\n",
        "        if \"bye\" in user_input or \"goodbye\" in user_input:\n",
        "            return self.farewell()\n",
        "        elif \"hello\" in user_input or \"hi\" in user_input:\n",
        "            return self.greet()\n",
        "        elif any(q in user_input for q in [\"how\", \"your name\", \"what do you do\", \"weather\", \"thanks\", \"thank you\"]):\n",
        "            return self.respond_to_basic_questions(user_input)\n",
        "        else:\n",
        "            return \"I'm sorry, I didn't understand that. Can you please rephrase or ask another question?\"\n",
        "\n",
        "    def chat(self):\n",
        "        print(self.greet())\n",
        "\n",
        "        while True:\n",
        "            user_input = input(\"You: \")\n",
        "            if not user_input:\n",
        "                print(\"Please provide a valid input.\")\n",
        "                continue\n",
        "\n",
        "            if user_input.lower() == 'exit':\n",
        "                print(self.farewell())\n",
        "                break\n",
        "\n",
        "            response = self.handle_user_input(user_input)\n",
        "            print(\"Chatbot:\", response)\n",
        "\n",
        "        additional_questions = input(\"Would you like to answer some more questions? (yes/no) \").lower()\n",
        "        if additional_questions == 'yes':\n",
        "            user_responses = self.ask_user_questions()\n",
        "            print(\"Thanks for sharing! Let me know if there's anything else I can help with.\")\n",
        "\n",
        "if __name__ == \"__main__\":\n",
        "    chatbot = SimpleChatbot()\n",
        "    chatbot.chat()\n"
      ],
      "metadata": {
        "colab": {
          "base_uri": "https://localhost:8080/"
        },
        "id": "3o1tceQrNI0p",
        "outputId": "79b04429-37ff-404a-a976-544f3504312c"
      },
      "execution_count": null,
      "outputs": [
        {
          "output_type": "stream",
          "name": "stdout",
          "text": [
            "Hello! I'm your simple chatbot. What can I do for you today?\n",
            "You: how are you\n",
            "Chatbot: I'm a chatbot, so I don't have feelings, but I'm here to help!\n",
            "You: What's your favorite book?\n",
            "Chatbot: I'm sorry, I didn't understand that. Can you please rephrase or ask another question?\n"
          ]
        }
      ]
    },
    {
      "cell_type": "code",
      "source": [],
      "metadata": {
        "id": "fsH15G4pNsrW"
      },
      "execution_count": null,
      "outputs": []
    }
  ]
}